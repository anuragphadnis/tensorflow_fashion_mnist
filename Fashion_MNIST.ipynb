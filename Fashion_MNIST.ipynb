{
  "nbformat": 4,
  "nbformat_minor": 0,
  "metadata": {
    "colab": {
      "name": "Fashion_MNIST.ipynb",
      "version": "0.3.2",
      "provenance": [],
      "toc_visible": true,
      "include_colab_link": true
    },
    "kernelspec": {
      "name": "python2",
      "display_name": "Python 2"
    },
    "accelerator": "GPU"
  },
  "cells": [
    {
      "cell_type": "markdown",
      "metadata": {
        "id": "view-in-github",
        "colab_type": "text"
      },
      "source": [
        "<a href=\"https://colab.research.google.com/github/sanidhyamangal/tensorflow_fashion_mnist/blob/master/Fashion_MNIST.ipynb\" target=\"_parent\"><img src=\"https://colab.research.google.com/assets/colab-badge.svg\" alt=\"Open In Colab\"/></a>"
      ]
    },
    {
      "metadata": {
        "id": "tdNX2otEffT2",
        "colab_type": "text"
      },
      "cell_type": "markdown",
      "source": [
        "# Fashion MNIST \n",
        "\n",
        "This notebooks defines how a CNN can be used to make a classifier which can be used to classify various clothes based on its images. \n",
        "\n",
        "Download the Fashion MNIST dataset from https://www.kaggle.com/zalando-research/fashionmnist/downloads/fashionmnist.zip/4\n",
        "\n",
        "Unzip the files. You should be able to view 2 csv files: fashion-mnist_train.csv and fashion-mnist_test.csv."
      ]
    },
    {
      "metadata": {
        "id": "G4SU3nRAffT6",
        "colab_type": "text"
      },
      "cell_type": "markdown",
      "source": [
        "## Basic Imports"
      ]
    },
    {
      "metadata": {
        "id": "ZA_jlOdPffT8",
        "colab_type": "code",
        "colab": {}
      },
      "cell_type": "code",
      "source": [
        "import numpy as np # for matrix maths \n",
        "import itertools # for itertions \n",
        "import pandas as pd # for converting data into data tables \n",
        "import math # for maths \n",
        "\n",
        "# tensorflow import \n",
        "import tensorflow as tf \n",
        "\n",
        "# DataViz import\n",
        "import matplotlib.pyplot as plt # for plotting "
      ],
      "execution_count": 0,
      "outputs": []
    },
    {
      "metadata": {
        "id": "WV2u_6mnffUC",
        "colab_type": "text"
      },
      "cell_type": "markdown",
      "source": [
        "## Helper functions"
      ]
    },
    {
      "metadata": {
        "id": "nX6_9SbEfkFX",
        "colab_type": "text"
      },
      "cell_type": "markdown",
      "source": [
        "In this section we are going to define some helper functions which are going to help us in formulating problem more easily\n",
        "\n",
        "\n"
      ]
    },
    {
      "metadata": {
        "id": "2hh0KnNmgTEO",
        "colab_type": "text"
      },
      "cell_type": "markdown",
      "source": [
        "### Helper function for prediction \n",
        "\n",
        "This is an input function which is used by tensorflow evaluator to predict the image once our model is fully trained."
      ]
    },
    {
      "metadata": {
        "id": "2z8PtO42ffUD",
        "colab_type": "code",
        "colab": {}
      },
      "cell_type": "code",
      "source": [
        "# helper function for predicting input\n",
        "def predict_input_fn(df):\n",
        "    def input_fun():\n",
        "        \n",
        "        # seperate pixels from labels \n",
        "        pixels = df.iloc[:,1:].as_matrix().astype(float)\n",
        "        labels = df.iloc[:,0].as_matrix().astype(float)\n",
        "        \n",
        "        # construct a tf data set \n",
        "        batch_pixels = tf.convert_to_tensor(pixels, tf.float32)\n",
        "        batch_labels = tf.convert_to_tensor(labels, tf.float32)\n",
        "        \n",
        "        return {'pixels':batch_pixels}, batch_labels\n",
        "    return input_fun"
      ],
      "execution_count": 0,
      "outputs": []
    },
    {
      "metadata": {
        "id": "YZANvaKpg1zY",
        "colab_type": "text"
      },
      "cell_type": "markdown",
      "source": [
        "### Helper function for Input \n",
        "\n",
        "This section contains a function which perform following operations:\n",
        "\n",
        "*   Shuffle's data set to increase variance\n",
        "*   Extract pixels and labels from the Pandas data frame\n",
        "*   Convert Extracted pixels and labels into tensors and make a one shot iterator\n",
        "\n",
        "It is a composite function to feed data into tensorflow evaluator."
      ]
    },
    {
      "metadata": {
        "id": "wANSRR9pgz8i",
        "colab_type": "code",
        "colab": {}
      },
      "cell_type": "code",
      "source": [
        "# def input function \n",
        "\n",
        "\n",
        "#@title Boilerplate Code for feeding the dataset into the Model (Can be skipped).\n",
        "\n",
        "def generate_input_fn(df, batch_size, num_epochs=None):\n",
        "    def input_fn():\n",
        "\n",
        "    # shuffle the rows.\n",
        "\n",
        "        shuffle_df = df.sample(frac=1).reset_index(drop=True)\n",
        "\n",
        "    # Separate the pixels from the labels.\n",
        "\n",
        "        pixels = shuffle_df.iloc[:, 1:].as_matrix().astype(float)\n",
        "\n",
        "        labels = shuffle_df.iloc[:, 0].as_matrix().astype(int)\n",
        "\n",
        "    # Construct tf.data.DataSet from the 2 numpy arrays.\n",
        "\n",
        "        pixels = tf.convert_to_tensor(pixels, dtype=tf.float32)\n",
        "\n",
        "        labels = tf.convert_to_tensor(labels, dtype=tf.int32)\n",
        "\n",
        "        dataset = tf.data.Dataset.from_tensor_slices((pixels, labels))\n",
        "\n",
        "        dataset = dataset.shuffle(buffer_size=2 * batch_size + 1)\n",
        "\n",
        "        dataset = dataset.batch(batch_size)\n",
        "\n",
        "        dataset = dataset.repeat(num_epochs)\n",
        "\n",
        "        # make one shot iterator for the data to be feed in evaluator\n",
        "        iterator = dataset.make_one_shot_iterator()\n",
        "\n",
        "    \n",
        "\n",
        "        batch_pixels, batch_labels = iterator.get_next()\n",
        "\n",
        "    \n",
        "\n",
        "        return {\"pixels\": batch_pixels}, batch_labels\n",
        "    return input_fn"
      ],
      "execution_count": 0,
      "outputs": []
    },
    {
      "metadata": {
        "id": "haJlQ05qzR6O",
        "colab_type": "code",
        "colab": {
          "base_uri": "https://localhost:8080/",
          "height": 391
        },
        "outputId": "01eebef4-403d-4b42-cdbe-def9d83ae705"
      },
      "cell_type": "code",
      "source": [
        "!wget https://gitlab.com/sanidhyamangal/datasets/raw/master/fashion-mnist_train.csv\n",
        "!wget https://gitlab.com/sanidhyamangal/datasets/raw/master/fashion-mnist_test.csv  "
      ],
      "execution_count": 4,
      "outputs": [
        {
          "output_type": "stream",
          "text": [
            "--2019-02-03 05:27:13--  https://gitlab.com/sanidhyamangal/datasets/raw/master/fashion-mnist_train.csv\n",
            "Resolving gitlab.com (gitlab.com)... 35.231.145.151\n",
            "Connecting to gitlab.com (gitlab.com)|35.231.145.151|:443... connected.\n",
            "HTTP request sent, awaiting response... 200 OK\n",
            "Length: 133047193 (127M) [text/plain]\n",
            "Saving to: ‘fashion-mnist_train.csv’\n",
            "\n",
            "fashion-mnist_train 100%[===================>] 126.88M  65.6MB/s    in 1.9s    \n",
            "\n",
            "2019-02-03 05:27:16 (65.6 MB/s) - ‘fashion-mnist_train.csv’ saved [133047193/133047193]\n",
            "\n",
            "--2019-02-03 05:27:18--  https://gitlab.com/sanidhyamangal/datasets/raw/master/fashion-mnist_test.csv\n",
            "Resolving gitlab.com (gitlab.com)... 35.231.145.151\n",
            "Connecting to gitlab.com (gitlab.com)|35.231.145.151|:443... connected.\n",
            "HTTP request sent, awaiting response... 200 OK\n",
            "Length: 22176691 (21M) [text/plain]\n",
            "Saving to: ‘fashion-mnist_test.csv’\n",
            "\n",
            "fashion-mnist_test. 100%[===================>]  21.15M  35.5MB/s    in 0.6s    \n",
            "\n",
            "2019-02-03 05:27:19 (35.5 MB/s) - ‘fashion-mnist_test.csv’ saved [22176691/22176691]\n",
            "\n"
          ],
          "name": "stdout"
        }
      ]
    },
    {
      "metadata": {
        "id": "ccF8js1QffUH",
        "colab_type": "text"
      },
      "cell_type": "markdown",
      "source": [
        "## Analyse Dataset \n",
        "\n",
        "\n",
        "Load csv files in a form of pandas data frame"
      ]
    },
    {
      "metadata": {
        "id": "lskZLwMKffUI",
        "colab_type": "code",
        "colab": {}
      },
      "cell_type": "code",
      "source": [
        "# convert csv to data frames \n",
        "train_df = pd.read_csv('./fashion-mnist_train.csv') # train set \n",
        "test_df = pd.read_csv('./fashion-mnist_test.csv') # test set "
      ],
      "execution_count": 0,
      "outputs": []
    },
    {
      "metadata": {
        "id": "ByAab7ObffUM",
        "colab_type": "code",
        "outputId": "6de9afaa-6de4-4759-f92a-cec35b9efa92",
        "colab": {
          "base_uri": "https://localhost:8080/",
          "height": 346
        }
      },
      "cell_type": "code",
      "source": [
        "# describing labels of train set \n",
        "train_df.describe()"
      ],
      "execution_count": 6,
      "outputs": [
        {
          "output_type": "execute_result",
          "data": {
            "text/html": [
              "<div>\n",
              "<style scoped>\n",
              "    .dataframe tbody tr th:only-of-type {\n",
              "        vertical-align: middle;\n",
              "    }\n",
              "\n",
              "    .dataframe tbody tr th {\n",
              "        vertical-align: top;\n",
              "    }\n",
              "\n",
              "    .dataframe thead th {\n",
              "        text-align: right;\n",
              "    }\n",
              "</style>\n",
              "<table border=\"1\" class=\"dataframe\">\n",
              "  <thead>\n",
              "    <tr style=\"text-align: right;\">\n",
              "      <th></th>\n",
              "      <th>label</th>\n",
              "      <th>pixel1</th>\n",
              "      <th>pixel2</th>\n",
              "      <th>pixel3</th>\n",
              "      <th>pixel4</th>\n",
              "      <th>pixel5</th>\n",
              "      <th>pixel6</th>\n",
              "      <th>pixel7</th>\n",
              "      <th>pixel8</th>\n",
              "      <th>pixel9</th>\n",
              "      <th>...</th>\n",
              "      <th>pixel775</th>\n",
              "      <th>pixel776</th>\n",
              "      <th>pixel777</th>\n",
              "      <th>pixel778</th>\n",
              "      <th>pixel779</th>\n",
              "      <th>pixel780</th>\n",
              "      <th>pixel781</th>\n",
              "      <th>pixel782</th>\n",
              "      <th>pixel783</th>\n",
              "      <th>pixel784</th>\n",
              "    </tr>\n",
              "  </thead>\n",
              "  <tbody>\n",
              "    <tr>\n",
              "      <th>count</th>\n",
              "      <td>60000.000000</td>\n",
              "      <td>60000.000000</td>\n",
              "      <td>60000.000000</td>\n",
              "      <td>60000.000000</td>\n",
              "      <td>60000.000000</td>\n",
              "      <td>60000.000000</td>\n",
              "      <td>60000.000000</td>\n",
              "      <td>60000.000000</td>\n",
              "      <td>60000.000000</td>\n",
              "      <td>60000.000000</td>\n",
              "      <td>...</td>\n",
              "      <td>60000.000000</td>\n",
              "      <td>60000.000000</td>\n",
              "      <td>60000.000000</td>\n",
              "      <td>60000.000000</td>\n",
              "      <td>60000.000000</td>\n",
              "      <td>60000.000000</td>\n",
              "      <td>60000.000000</td>\n",
              "      <td>60000.000000</td>\n",
              "      <td>60000.000000</td>\n",
              "      <td>60000.00000</td>\n",
              "    </tr>\n",
              "    <tr>\n",
              "      <th>mean</th>\n",
              "      <td>4.500000</td>\n",
              "      <td>0.000900</td>\n",
              "      <td>0.006150</td>\n",
              "      <td>0.035333</td>\n",
              "      <td>0.101933</td>\n",
              "      <td>0.247967</td>\n",
              "      <td>0.411467</td>\n",
              "      <td>0.805767</td>\n",
              "      <td>2.198283</td>\n",
              "      <td>5.682000</td>\n",
              "      <td>...</td>\n",
              "      <td>34.625400</td>\n",
              "      <td>23.300683</td>\n",
              "      <td>16.588267</td>\n",
              "      <td>17.869433</td>\n",
              "      <td>22.814817</td>\n",
              "      <td>17.911483</td>\n",
              "      <td>8.520633</td>\n",
              "      <td>2.753300</td>\n",
              "      <td>0.855517</td>\n",
              "      <td>0.07025</td>\n",
              "    </tr>\n",
              "    <tr>\n",
              "      <th>std</th>\n",
              "      <td>2.872305</td>\n",
              "      <td>0.094689</td>\n",
              "      <td>0.271011</td>\n",
              "      <td>1.222324</td>\n",
              "      <td>2.452871</td>\n",
              "      <td>4.306912</td>\n",
              "      <td>5.836188</td>\n",
              "      <td>8.215169</td>\n",
              "      <td>14.093378</td>\n",
              "      <td>23.819481</td>\n",
              "      <td>...</td>\n",
              "      <td>57.545242</td>\n",
              "      <td>48.854427</td>\n",
              "      <td>41.979611</td>\n",
              "      <td>43.966032</td>\n",
              "      <td>51.830477</td>\n",
              "      <td>45.149388</td>\n",
              "      <td>29.614859</td>\n",
              "      <td>17.397652</td>\n",
              "      <td>9.356960</td>\n",
              "      <td>2.12587</td>\n",
              "    </tr>\n",
              "    <tr>\n",
              "      <th>min</th>\n",
              "      <td>0.000000</td>\n",
              "      <td>0.000000</td>\n",
              "      <td>0.000000</td>\n",
              "      <td>0.000000</td>\n",
              "      <td>0.000000</td>\n",
              "      <td>0.000000</td>\n",
              "      <td>0.000000</td>\n",
              "      <td>0.000000</td>\n",
              "      <td>0.000000</td>\n",
              "      <td>0.000000</td>\n",
              "      <td>...</td>\n",
              "      <td>0.000000</td>\n",
              "      <td>0.000000</td>\n",
              "      <td>0.000000</td>\n",
              "      <td>0.000000</td>\n",
              "      <td>0.000000</td>\n",
              "      <td>0.000000</td>\n",
              "      <td>0.000000</td>\n",
              "      <td>0.000000</td>\n",
              "      <td>0.000000</td>\n",
              "      <td>0.00000</td>\n",
              "    </tr>\n",
              "    <tr>\n",
              "      <th>25%</th>\n",
              "      <td>2.000000</td>\n",
              "      <td>0.000000</td>\n",
              "      <td>0.000000</td>\n",
              "      <td>0.000000</td>\n",
              "      <td>0.000000</td>\n",
              "      <td>0.000000</td>\n",
              "      <td>0.000000</td>\n",
              "      <td>0.000000</td>\n",
              "      <td>0.000000</td>\n",
              "      <td>0.000000</td>\n",
              "      <td>...</td>\n",
              "      <td>0.000000</td>\n",
              "      <td>0.000000</td>\n",
              "      <td>0.000000</td>\n",
              "      <td>0.000000</td>\n",
              "      <td>0.000000</td>\n",
              "      <td>0.000000</td>\n",
              "      <td>0.000000</td>\n",
              "      <td>0.000000</td>\n",
              "      <td>0.000000</td>\n",
              "      <td>0.00000</td>\n",
              "    </tr>\n",
              "    <tr>\n",
              "      <th>50%</th>\n",
              "      <td>4.500000</td>\n",
              "      <td>0.000000</td>\n",
              "      <td>0.000000</td>\n",
              "      <td>0.000000</td>\n",
              "      <td>0.000000</td>\n",
              "      <td>0.000000</td>\n",
              "      <td>0.000000</td>\n",
              "      <td>0.000000</td>\n",
              "      <td>0.000000</td>\n",
              "      <td>0.000000</td>\n",
              "      <td>...</td>\n",
              "      <td>0.000000</td>\n",
              "      <td>0.000000</td>\n",
              "      <td>0.000000</td>\n",
              "      <td>0.000000</td>\n",
              "      <td>0.000000</td>\n",
              "      <td>0.000000</td>\n",
              "      <td>0.000000</td>\n",
              "      <td>0.000000</td>\n",
              "      <td>0.000000</td>\n",
              "      <td>0.00000</td>\n",
              "    </tr>\n",
              "    <tr>\n",
              "      <th>75%</th>\n",
              "      <td>7.000000</td>\n",
              "      <td>0.000000</td>\n",
              "      <td>0.000000</td>\n",
              "      <td>0.000000</td>\n",
              "      <td>0.000000</td>\n",
              "      <td>0.000000</td>\n",
              "      <td>0.000000</td>\n",
              "      <td>0.000000</td>\n",
              "      <td>0.000000</td>\n",
              "      <td>0.000000</td>\n",
              "      <td>...</td>\n",
              "      <td>58.000000</td>\n",
              "      <td>9.000000</td>\n",
              "      <td>0.000000</td>\n",
              "      <td>0.000000</td>\n",
              "      <td>0.000000</td>\n",
              "      <td>0.000000</td>\n",
              "      <td>0.000000</td>\n",
              "      <td>0.000000</td>\n",
              "      <td>0.000000</td>\n",
              "      <td>0.00000</td>\n",
              "    </tr>\n",
              "    <tr>\n",
              "      <th>max</th>\n",
              "      <td>9.000000</td>\n",
              "      <td>16.000000</td>\n",
              "      <td>36.000000</td>\n",
              "      <td>226.000000</td>\n",
              "      <td>164.000000</td>\n",
              "      <td>227.000000</td>\n",
              "      <td>230.000000</td>\n",
              "      <td>224.000000</td>\n",
              "      <td>255.000000</td>\n",
              "      <td>254.000000</td>\n",
              "      <td>...</td>\n",
              "      <td>255.000000</td>\n",
              "      <td>255.000000</td>\n",
              "      <td>255.000000</td>\n",
              "      <td>255.000000</td>\n",
              "      <td>255.000000</td>\n",
              "      <td>255.000000</td>\n",
              "      <td>255.000000</td>\n",
              "      <td>255.000000</td>\n",
              "      <td>255.000000</td>\n",
              "      <td>170.00000</td>\n",
              "    </tr>\n",
              "  </tbody>\n",
              "</table>\n",
              "<p>8 rows × 785 columns</p>\n",
              "</div>"
            ],
            "text/plain": [
              "              label        pixel1        pixel2        pixel3        pixel4  \\\n",
              "count  60000.000000  60000.000000  60000.000000  60000.000000  60000.000000   \n",
              "mean       4.500000      0.000900      0.006150      0.035333      0.101933   \n",
              "std        2.872305      0.094689      0.271011      1.222324      2.452871   \n",
              "min        0.000000      0.000000      0.000000      0.000000      0.000000   \n",
              "25%        2.000000      0.000000      0.000000      0.000000      0.000000   \n",
              "50%        4.500000      0.000000      0.000000      0.000000      0.000000   \n",
              "75%        7.000000      0.000000      0.000000      0.000000      0.000000   \n",
              "max        9.000000     16.000000     36.000000    226.000000    164.000000   \n",
              "\n",
              "             pixel5        pixel6        pixel7        pixel8        pixel9  \\\n",
              "count  60000.000000  60000.000000  60000.000000  60000.000000  60000.000000   \n",
              "mean       0.247967      0.411467      0.805767      2.198283      5.682000   \n",
              "std        4.306912      5.836188      8.215169     14.093378     23.819481   \n",
              "min        0.000000      0.000000      0.000000      0.000000      0.000000   \n",
              "25%        0.000000      0.000000      0.000000      0.000000      0.000000   \n",
              "50%        0.000000      0.000000      0.000000      0.000000      0.000000   \n",
              "75%        0.000000      0.000000      0.000000      0.000000      0.000000   \n",
              "max      227.000000    230.000000    224.000000    255.000000    254.000000   \n",
              "\n",
              "          ...           pixel775      pixel776      pixel777      pixel778  \\\n",
              "count     ...       60000.000000  60000.000000  60000.000000  60000.000000   \n",
              "mean      ...          34.625400     23.300683     16.588267     17.869433   \n",
              "std       ...          57.545242     48.854427     41.979611     43.966032   \n",
              "min       ...           0.000000      0.000000      0.000000      0.000000   \n",
              "25%       ...           0.000000      0.000000      0.000000      0.000000   \n",
              "50%       ...           0.000000      0.000000      0.000000      0.000000   \n",
              "75%       ...          58.000000      9.000000      0.000000      0.000000   \n",
              "max       ...         255.000000    255.000000    255.000000    255.000000   \n",
              "\n",
              "           pixel779      pixel780      pixel781      pixel782      pixel783  \\\n",
              "count  60000.000000  60000.000000  60000.000000  60000.000000  60000.000000   \n",
              "mean      22.814817     17.911483      8.520633      2.753300      0.855517   \n",
              "std       51.830477     45.149388     29.614859     17.397652      9.356960   \n",
              "min        0.000000      0.000000      0.000000      0.000000      0.000000   \n",
              "25%        0.000000      0.000000      0.000000      0.000000      0.000000   \n",
              "50%        0.000000      0.000000      0.000000      0.000000      0.000000   \n",
              "75%        0.000000      0.000000      0.000000      0.000000      0.000000   \n",
              "max      255.000000    255.000000    255.000000    255.000000    255.000000   \n",
              "\n",
              "          pixel784  \n",
              "count  60000.00000  \n",
              "mean       0.07025  \n",
              "std        2.12587  \n",
              "min        0.00000  \n",
              "25%        0.00000  \n",
              "50%        0.00000  \n",
              "75%        0.00000  \n",
              "max      170.00000  \n",
              "\n",
              "[8 rows x 785 columns]"
            ]
          },
          "metadata": {
            "tags": []
          },
          "execution_count": 6
        }
      ]
    },
    {
      "metadata": {
        "id": "oP6CXxrwffUV",
        "colab_type": "code",
        "outputId": "9e8221d8-ad51-476a-be8b-40ea917663bf",
        "colab": {
          "base_uri": "https://localhost:8080/",
          "height": 346
        }
      },
      "cell_type": "code",
      "source": [
        "test_df.describe()"
      ],
      "execution_count": 7,
      "outputs": [
        {
          "output_type": "execute_result",
          "data": {
            "text/html": [
              "<div>\n",
              "<style scoped>\n",
              "    .dataframe tbody tr th:only-of-type {\n",
              "        vertical-align: middle;\n",
              "    }\n",
              "\n",
              "    .dataframe tbody tr th {\n",
              "        vertical-align: top;\n",
              "    }\n",
              "\n",
              "    .dataframe thead th {\n",
              "        text-align: right;\n",
              "    }\n",
              "</style>\n",
              "<table border=\"1\" class=\"dataframe\">\n",
              "  <thead>\n",
              "    <tr style=\"text-align: right;\">\n",
              "      <th></th>\n",
              "      <th>label</th>\n",
              "      <th>pixel1</th>\n",
              "      <th>pixel2</th>\n",
              "      <th>pixel3</th>\n",
              "      <th>pixel4</th>\n",
              "      <th>pixel5</th>\n",
              "      <th>pixel6</th>\n",
              "      <th>pixel7</th>\n",
              "      <th>pixel8</th>\n",
              "      <th>pixel9</th>\n",
              "      <th>...</th>\n",
              "      <th>pixel775</th>\n",
              "      <th>pixel776</th>\n",
              "      <th>pixel777</th>\n",
              "      <th>pixel778</th>\n",
              "      <th>pixel779</th>\n",
              "      <th>pixel780</th>\n",
              "      <th>pixel781</th>\n",
              "      <th>pixel782</th>\n",
              "      <th>pixel783</th>\n",
              "      <th>pixel784</th>\n",
              "    </tr>\n",
              "  </thead>\n",
              "  <tbody>\n",
              "    <tr>\n",
              "      <th>count</th>\n",
              "      <td>10000.000000</td>\n",
              "      <td>10000.000000</td>\n",
              "      <td>10000.000000</td>\n",
              "      <td>10000.000000</td>\n",
              "      <td>10000.000000</td>\n",
              "      <td>10000.000000</td>\n",
              "      <td>10000.000000</td>\n",
              "      <td>10000.000000</td>\n",
              "      <td>10000.000000</td>\n",
              "      <td>10000.000000</td>\n",
              "      <td>...</td>\n",
              "      <td>10000.000000</td>\n",
              "      <td>10000.000000</td>\n",
              "      <td>10000.000000</td>\n",
              "      <td>10000.000000</td>\n",
              "      <td>10000.000000</td>\n",
              "      <td>10000.000000</td>\n",
              "      <td>10000.000000</td>\n",
              "      <td>10000.000000</td>\n",
              "      <td>10000.000000</td>\n",
              "      <td>10000.00000</td>\n",
              "    </tr>\n",
              "    <tr>\n",
              "      <th>mean</th>\n",
              "      <td>4.500000</td>\n",
              "      <td>0.000400</td>\n",
              "      <td>0.010300</td>\n",
              "      <td>0.052100</td>\n",
              "      <td>0.077000</td>\n",
              "      <td>0.208600</td>\n",
              "      <td>0.349200</td>\n",
              "      <td>0.826700</td>\n",
              "      <td>2.321200</td>\n",
              "      <td>5.457800</td>\n",
              "      <td>...</td>\n",
              "      <td>34.320800</td>\n",
              "      <td>23.071900</td>\n",
              "      <td>16.432000</td>\n",
              "      <td>17.870600</td>\n",
              "      <td>22.860000</td>\n",
              "      <td>17.790200</td>\n",
              "      <td>8.353500</td>\n",
              "      <td>2.541600</td>\n",
              "      <td>0.629500</td>\n",
              "      <td>0.06560</td>\n",
              "    </tr>\n",
              "    <tr>\n",
              "      <th>std</th>\n",
              "      <td>2.872425</td>\n",
              "      <td>0.024493</td>\n",
              "      <td>0.525187</td>\n",
              "      <td>2.494315</td>\n",
              "      <td>2.208882</td>\n",
              "      <td>4.669183</td>\n",
              "      <td>5.657849</td>\n",
              "      <td>8.591731</td>\n",
              "      <td>15.031508</td>\n",
              "      <td>23.359019</td>\n",
              "      <td>...</td>\n",
              "      <td>57.888679</td>\n",
              "      <td>49.049749</td>\n",
              "      <td>42.159665</td>\n",
              "      <td>44.140552</td>\n",
              "      <td>51.706601</td>\n",
              "      <td>45.128107</td>\n",
              "      <td>28.765769</td>\n",
              "      <td>16.417363</td>\n",
              "      <td>7.462533</td>\n",
              "      <td>1.93403</td>\n",
              "    </tr>\n",
              "    <tr>\n",
              "      <th>min</th>\n",
              "      <td>0.000000</td>\n",
              "      <td>0.000000</td>\n",
              "      <td>0.000000</td>\n",
              "      <td>0.000000</td>\n",
              "      <td>0.000000</td>\n",
              "      <td>0.000000</td>\n",
              "      <td>0.000000</td>\n",
              "      <td>0.000000</td>\n",
              "      <td>0.000000</td>\n",
              "      <td>0.000000</td>\n",
              "      <td>...</td>\n",
              "      <td>0.000000</td>\n",
              "      <td>0.000000</td>\n",
              "      <td>0.000000</td>\n",
              "      <td>0.000000</td>\n",
              "      <td>0.000000</td>\n",
              "      <td>0.000000</td>\n",
              "      <td>0.000000</td>\n",
              "      <td>0.000000</td>\n",
              "      <td>0.000000</td>\n",
              "      <td>0.00000</td>\n",
              "    </tr>\n",
              "    <tr>\n",
              "      <th>25%</th>\n",
              "      <td>2.000000</td>\n",
              "      <td>0.000000</td>\n",
              "      <td>0.000000</td>\n",
              "      <td>0.000000</td>\n",
              "      <td>0.000000</td>\n",
              "      <td>0.000000</td>\n",
              "      <td>0.000000</td>\n",
              "      <td>0.000000</td>\n",
              "      <td>0.000000</td>\n",
              "      <td>0.000000</td>\n",
              "      <td>...</td>\n",
              "      <td>0.000000</td>\n",
              "      <td>0.000000</td>\n",
              "      <td>0.000000</td>\n",
              "      <td>0.000000</td>\n",
              "      <td>0.000000</td>\n",
              "      <td>0.000000</td>\n",
              "      <td>0.000000</td>\n",
              "      <td>0.000000</td>\n",
              "      <td>0.000000</td>\n",
              "      <td>0.00000</td>\n",
              "    </tr>\n",
              "    <tr>\n",
              "      <th>50%</th>\n",
              "      <td>4.500000</td>\n",
              "      <td>0.000000</td>\n",
              "      <td>0.000000</td>\n",
              "      <td>0.000000</td>\n",
              "      <td>0.000000</td>\n",
              "      <td>0.000000</td>\n",
              "      <td>0.000000</td>\n",
              "      <td>0.000000</td>\n",
              "      <td>0.000000</td>\n",
              "      <td>0.000000</td>\n",
              "      <td>...</td>\n",
              "      <td>0.000000</td>\n",
              "      <td>0.000000</td>\n",
              "      <td>0.000000</td>\n",
              "      <td>0.000000</td>\n",
              "      <td>0.000000</td>\n",
              "      <td>0.000000</td>\n",
              "      <td>0.000000</td>\n",
              "      <td>0.000000</td>\n",
              "      <td>0.000000</td>\n",
              "      <td>0.00000</td>\n",
              "    </tr>\n",
              "    <tr>\n",
              "      <th>75%</th>\n",
              "      <td>7.000000</td>\n",
              "      <td>0.000000</td>\n",
              "      <td>0.000000</td>\n",
              "      <td>0.000000</td>\n",
              "      <td>0.000000</td>\n",
              "      <td>0.000000</td>\n",
              "      <td>0.000000</td>\n",
              "      <td>0.000000</td>\n",
              "      <td>0.000000</td>\n",
              "      <td>0.000000</td>\n",
              "      <td>...</td>\n",
              "      <td>55.000000</td>\n",
              "      <td>6.000000</td>\n",
              "      <td>0.000000</td>\n",
              "      <td>0.000000</td>\n",
              "      <td>1.000000</td>\n",
              "      <td>0.000000</td>\n",
              "      <td>0.000000</td>\n",
              "      <td>0.000000</td>\n",
              "      <td>0.000000</td>\n",
              "      <td>0.00000</td>\n",
              "    </tr>\n",
              "    <tr>\n",
              "      <th>max</th>\n",
              "      <td>9.000000</td>\n",
              "      <td>2.000000</td>\n",
              "      <td>45.000000</td>\n",
              "      <td>218.000000</td>\n",
              "      <td>185.000000</td>\n",
              "      <td>227.000000</td>\n",
              "      <td>223.000000</td>\n",
              "      <td>247.000000</td>\n",
              "      <td>218.000000</td>\n",
              "      <td>244.000000</td>\n",
              "      <td>...</td>\n",
              "      <td>254.000000</td>\n",
              "      <td>252.000000</td>\n",
              "      <td>255.000000</td>\n",
              "      <td>255.000000</td>\n",
              "      <td>255.000000</td>\n",
              "      <td>255.000000</td>\n",
              "      <td>240.000000</td>\n",
              "      <td>225.000000</td>\n",
              "      <td>205.000000</td>\n",
              "      <td>107.00000</td>\n",
              "    </tr>\n",
              "  </tbody>\n",
              "</table>\n",
              "<p>8 rows × 785 columns</p>\n",
              "</div>"
            ],
            "text/plain": [
              "              label        pixel1        pixel2        pixel3        pixel4  \\\n",
              "count  10000.000000  10000.000000  10000.000000  10000.000000  10000.000000   \n",
              "mean       4.500000      0.000400      0.010300      0.052100      0.077000   \n",
              "std        2.872425      0.024493      0.525187      2.494315      2.208882   \n",
              "min        0.000000      0.000000      0.000000      0.000000      0.000000   \n",
              "25%        2.000000      0.000000      0.000000      0.000000      0.000000   \n",
              "50%        4.500000      0.000000      0.000000      0.000000      0.000000   \n",
              "75%        7.000000      0.000000      0.000000      0.000000      0.000000   \n",
              "max        9.000000      2.000000     45.000000    218.000000    185.000000   \n",
              "\n",
              "             pixel5        pixel6        pixel7        pixel8        pixel9  \\\n",
              "count  10000.000000  10000.000000  10000.000000  10000.000000  10000.000000   \n",
              "mean       0.208600      0.349200      0.826700      2.321200      5.457800   \n",
              "std        4.669183      5.657849      8.591731     15.031508     23.359019   \n",
              "min        0.000000      0.000000      0.000000      0.000000      0.000000   \n",
              "25%        0.000000      0.000000      0.000000      0.000000      0.000000   \n",
              "50%        0.000000      0.000000      0.000000      0.000000      0.000000   \n",
              "75%        0.000000      0.000000      0.000000      0.000000      0.000000   \n",
              "max      227.000000    223.000000    247.000000    218.000000    244.000000   \n",
              "\n",
              "          ...           pixel775      pixel776      pixel777      pixel778  \\\n",
              "count     ...       10000.000000  10000.000000  10000.000000  10000.000000   \n",
              "mean      ...          34.320800     23.071900     16.432000     17.870600   \n",
              "std       ...          57.888679     49.049749     42.159665     44.140552   \n",
              "min       ...           0.000000      0.000000      0.000000      0.000000   \n",
              "25%       ...           0.000000      0.000000      0.000000      0.000000   \n",
              "50%       ...           0.000000      0.000000      0.000000      0.000000   \n",
              "75%       ...          55.000000      6.000000      0.000000      0.000000   \n",
              "max       ...         254.000000    252.000000    255.000000    255.000000   \n",
              "\n",
              "           pixel779      pixel780      pixel781      pixel782      pixel783  \\\n",
              "count  10000.000000  10000.000000  10000.000000  10000.000000  10000.000000   \n",
              "mean      22.860000     17.790200      8.353500      2.541600      0.629500   \n",
              "std       51.706601     45.128107     28.765769     16.417363      7.462533   \n",
              "min        0.000000      0.000000      0.000000      0.000000      0.000000   \n",
              "25%        0.000000      0.000000      0.000000      0.000000      0.000000   \n",
              "50%        0.000000      0.000000      0.000000      0.000000      0.000000   \n",
              "75%        1.000000      0.000000      0.000000      0.000000      0.000000   \n",
              "max      255.000000    255.000000    240.000000    225.000000    205.000000   \n",
              "\n",
              "          pixel784  \n",
              "count  10000.00000  \n",
              "mean       0.06560  \n",
              "std        1.93403  \n",
              "min        0.00000  \n",
              "25%        0.00000  \n",
              "50%        0.00000  \n",
              "75%        0.00000  \n",
              "max      107.00000  \n",
              "\n",
              "[8 rows x 785 columns]"
            ]
          },
          "metadata": {
            "tags": []
          },
          "execution_count": 7
        }
      ]
    },
    {
      "metadata": {
        "id": "9OiUOupaffUb",
        "colab_type": "text"
      },
      "cell_type": "markdown",
      "source": [
        "Looks like train set is consists 60k images and test set contains 10k images having 784 pixels i.e is 28 x 28 pixels."
      ]
    },
    {
      "metadata": {
        "id": "XUCFsGddffUc",
        "colab_type": "text"
      },
      "cell_type": "markdown",
      "source": [
        "## Usefull Constants for later use\n",
        "\n",
        "These are the hyperparameters for the CNN."
      ]
    },
    {
      "metadata": {
        "id": "mRL1HsVEffUd",
        "colab_type": "code",
        "colab": {}
      },
      "cell_type": "code",
      "source": [
        "NUM_CLASSES = 10 # for number of labels classes \n",
        "NUM_ROWS = 28 # num for pixels in a row \n",
        "NUM_COLS = 28 # num of pixels in a clos \n",
        "MAX_PIXEL_VALUE = 255 # highest value of a pixel \n",
        "BATCH_SIZE = 64 # batch size for train \n",
        "NUM_TRAIN_STEPS = 4000 \n",
        "NUM_TEST_STEPS = 100"
      ],
      "execution_count": 0,
      "outputs": []
    },
    {
      "metadata": {
        "id": "11dpuVGMffUi",
        "colab_type": "text"
      },
      "cell_type": "markdown",
      "source": [
        "## Plot a sample image for viz"
      ]
    },
    {
      "metadata": {
        "id": "yvHIHWyjffUj",
        "colab_type": "code",
        "outputId": "a9a39a6f-d50a-4385-c369-a4dd774e4d43",
        "colab": {
          "base_uri": "https://localhost:8080/",
          "height": 365
        }
      },
      "cell_type": "code",
      "source": [
        "fig = plt.figure(figsize=(8,8))\n",
        "\n",
        "for label in range(NUM_CLASSES):\n",
        "    image = train_df[train_df['label'] == label].iloc[0, 1:]\n",
        "    fig.add_subplot(2, 5, label+1)\n",
        "    plt.imshow(image.values.reshape(NUM_ROWS, NUM_COLS), cmap='gray', interpolation=None)\n",
        "\n",
        "# showing a plot \n",
        "plt.show()"
      ],
      "execution_count": 9,
      "outputs": [
        {
          "output_type": "display_data",
          "data": {
            "image/png": "[encoded data removed]",
            "text/plain": [
              "<Figure size 576x576 with 10 Axes>"
            ]
          },
          "metadata": {
            "tags": []
          }
        }
      ]
    },
    {
      "metadata": {
        "id": "xEiVyqpBffUp",
        "colab_type": "text"
      },
      "cell_type": "markdown",
      "source": [
        "## Linear Fucntion "
      ]
    },
    {
      "metadata": {
        "id": "xJVoAGipffUq",
        "colab_type": "code",
        "colab": {}
      },
      "cell_type": "code",
      "source": [
        "# def linear mode function \n",
        "def linear_model_fn(features, labels, mode):\n",
        "    inputs = features['pixels']\n",
        "    \n",
        "    # normalize our inputs for range of 0,1\n",
        "    normalized_inputs = inputs / MAX_PIXEL_VALUE\n",
        "    \n",
        "    # linear layer to directly map to logits \n",
        "    logits = tf.layers.dense(normalized_inputs, units=NUM_CLASSES)\n",
        "    \n",
        "    # getting predictions \n",
        "    predictions = {\n",
        "        'classes':tf.argmax(input=logits, axis=1),\n",
        "        'probablities':tf.nn.softmax(logits, name='softmax_tensor')\n",
        "    }\n",
        "    \n",
        "    if mode == tf.estimator.ModeKeys.PREDICT:\n",
        "        return tf.estimator.EstimatorSpec(mode=mode, predictions=predictions)\n",
        "    \n",
        "    # calculate loss for both train and eval method \n",
        "    loss = tf.losses.sparse_softmax_cross_entropy(labels=labels, logits=logits)\n",
        "    \n",
        "    # configure function for train op \n",
        "    if mode == tf.estimator.ModeKeys.TRAIN:\n",
        "        optimizer = tf.train.AdamOptimizer(learning_rate=1e-4)\n",
        "        train_op = optimizer.minimize(loss=loss, global_step=tf.train.get_global_step())\n",
        "        return tf.estimator.EstimatorSpec(mode=mode, loss=loss, train_op=train_op)\n",
        "    \n",
        "    # Add eval metrics for eval operation\n",
        "    eval_metric_ops = {\n",
        "        \"accuracy\":tf.metrics.accuracy(labels=labels, predictions=predictions['classes'])\n",
        "    }\n",
        "    \n",
        "    return tf.estimator.EstimatorSpec(mode=mode, loss=loss, eval_metric_ops=eval_metric_ops)"
      ],
      "execution_count": 0,
      "outputs": []
    },
    {
      "metadata": {
        "id": "vOF2S9eDffUu",
        "colab_type": "code",
        "colab": {}
      },
      "cell_type": "code",
      "source": [
        "# setting up logging for our operations \n",
        "tensor_to_logs = {'predictions':'softmax_tensor'}\n",
        "logging_hook = tf.train.LoggingTensorHook(tensors=tensor_to_logs, every_n_iter=50)"
      ],
      "execution_count": 0,
      "outputs": []
    },
    {
      "metadata": {
        "id": "NUg1wXPJffU3",
        "colab_type": "code",
        "outputId": "edc56800-8c80-44a3-8b00-7203ce04d6c5",
        "colab": {
          "base_uri": "https://localhost:8080/",
          "height": 1703
        }
      },
      "cell_type": "code",
      "source": [
        "#@Train our linear classifier\n",
        "linear_classifier = tf.estimator.Estimator(model_fn=linear_model_fn)\n",
        "linear_classifier.train(input_fn=generate_input_fn(train_df,BATCH_SIZE), steps=NUM_TRAIN_STEPS, hooks=None)"
      ],
      "execution_count": 12,
      "outputs": [
        {
          "output_type": "stream",
          "text": [
            "INFO:tensorflow:Using default config.\n",
            "WARNING:tensorflow:Using temporary folder as model directory: /tmp/tmpFVIhGs\n",
            "INFO:tensorflow:Using config: {'_save_checkpoints_secs': 600, '_num_ps_replicas': 0, '_keep_checkpoint_max': 5, '_task_type': 'worker', '_global_id_in_cluster': 0, '_is_chief': True, '_cluster_spec': <tensorflow.python.training.server_lib.ClusterSpec object at 0x7f905b097190>, '_model_dir': '/tmp/tmpFVIhGs', '_protocol': None, '_save_checkpoints_steps': None, '_keep_checkpoint_every_n_hours': 10000, '_service': None, '_session_config': allow_soft_placement: true\n",
            "graph_options {\n",
            "  rewrite_options {\n",
            "    meta_optimizer_iterations: ONE\n",
            "  }\n",
            "}\n",
            ", '_tf_random_seed': None, '_save_summary_steps': 100, '_device_fn': None, '_experimental_distribute': None, '_num_worker_replicas': 1, '_task_id': 0, '_log_step_count_steps': 100, '_evaluation_master': '', '_eval_distribute': None, '_train_distribute': None, '_master': ''}\n",
            "INFO:tensorflow:Calling model_fn.\n",
            "INFO:tensorflow:Done calling model_fn.\n",
            "INFO:tensorflow:Create CheckpointSaverHook.\n",
            "INFO:tensorflow:Graph was finalized.\n",
            "INFO:tensorflow:Running local_init_op.\n",
            "INFO:tensorflow:Done running local_init_op.\n",
            "INFO:tensorflow:Saving checkpoints for 0 into /tmp/tmpFVIhGs/model.ckpt.\n",
            "INFO:tensorflow:loss = 2.8995762, step = 0\n",
            "INFO:tensorflow:global_step/sec: 158.931\n",
            "INFO:tensorflow:loss = 1.8227544, step = 100 (0.631 sec)\n",
            "INFO:tensorflow:global_step/sec: 513.524\n",
            "INFO:tensorflow:loss = 1.4155121, step = 200 (0.197 sec)\n",
            "INFO:tensorflow:global_step/sec: 555.321\n",
            "INFO:tensorflow:loss = 1.2780411, step = 300 (0.177 sec)\n",
            "INFO:tensorflow:global_step/sec: 553.137\n",
            "INFO:tensorflow:loss = 1.2380528, step = 400 (0.182 sec)\n",
            "INFO:tensorflow:global_step/sec: 552.866\n",
            "INFO:tensorflow:loss = 1.0410519, step = 500 (0.180 sec)\n",
            "INFO:tensorflow:global_step/sec: 538.283\n",
            "INFO:tensorflow:loss = 1.0988977, step = 600 (0.186 sec)\n",
            "INFO:tensorflow:global_step/sec: 503.95\n",
            "INFO:tensorflow:loss = 0.9328191, step = 700 (0.202 sec)\n",
            "INFO:tensorflow:global_step/sec: 520.289\n",
            "INFO:tensorflow:loss = 0.9240023, step = 800 (0.192 sec)\n",
            "INFO:tensorflow:global_step/sec: 544.149\n",
            "INFO:tensorflow:loss = 0.85388887, step = 900 (0.182 sec)\n",
            "INFO:tensorflow:global_step/sec: 577.081\n",
            "INFO:tensorflow:loss = 0.9149328, step = 1000 (0.174 sec)\n",
            "INFO:tensorflow:global_step/sec: 541.424\n",
            "INFO:tensorflow:loss = 0.9061634, step = 1100 (0.187 sec)\n",
            "INFO:tensorflow:global_step/sec: 568.001\n",
            "INFO:tensorflow:loss = 0.67428434, step = 1200 (0.175 sec)\n",
            "INFO:tensorflow:global_step/sec: 524.461\n",
            "INFO:tensorflow:loss = 0.77662486, step = 1300 (0.190 sec)\n",
            "INFO:tensorflow:global_step/sec: 574.29\n",
            "INFO:tensorflow:loss = 0.67350525, step = 1400 (0.175 sec)\n",
            "INFO:tensorflow:global_step/sec: 568.188\n",
            "INFO:tensorflow:loss = 0.75535023, step = 1500 (0.176 sec)\n",
            "INFO:tensorflow:global_step/sec: 557.401\n",
            "INFO:tensorflow:loss = 0.59192556, step = 1600 (0.178 sec)\n",
            "INFO:tensorflow:global_step/sec: 559.66\n",
            "INFO:tensorflow:loss = 0.8396157, step = 1700 (0.179 sec)\n",
            "INFO:tensorflow:global_step/sec: 560.117\n",
            "INFO:tensorflow:loss = 0.62735045, step = 1800 (0.176 sec)\n",
            "INFO:tensorflow:global_step/sec: 573.918\n",
            "INFO:tensorflow:loss = 0.59461033, step = 1900 (0.178 sec)\n",
            "INFO:tensorflow:global_step/sec: 571.314\n",
            "INFO:tensorflow:loss = 0.66986585, step = 2000 (0.174 sec)\n",
            "INFO:tensorflow:global_step/sec: 551.186\n",
            "INFO:tensorflow:loss = 0.74991596, step = 2100 (0.182 sec)\n",
            "INFO:tensorflow:global_step/sec: 560.4\n",
            "INFO:tensorflow:loss = 0.48519808, step = 2200 (0.179 sec)\n",
            "INFO:tensorflow:global_step/sec: 561.838\n",
            "INFO:tensorflow:loss = 0.5538951, step = 2300 (0.174 sec)\n",
            "INFO:tensorflow:global_step/sec: 543.003\n",
            "INFO:tensorflow:loss = 0.5741358, step = 2400 (0.188 sec)\n",
            "INFO:tensorflow:global_step/sec: 553.293\n",
            "INFO:tensorflow:loss = 0.6806527, step = 2500 (0.181 sec)\n",
            "INFO:tensorflow:global_step/sec: 568.098\n",
            "INFO:tensorflow:loss = 0.55357987, step = 2600 (0.173 sec)\n",
            "INFO:tensorflow:global_step/sec: 559.268\n",
            "INFO:tensorflow:loss = 0.68205696, step = 2700 (0.182 sec)\n",
            "INFO:tensorflow:global_step/sec: 559.447\n",
            "INFO:tensorflow:loss = 0.5750031, step = 2800 (0.179 sec)\n",
            "INFO:tensorflow:global_step/sec: 543.984\n",
            "INFO:tensorflow:loss = 0.77206933, step = 2900 (0.182 sec)\n",
            "INFO:tensorflow:global_step/sec: 548.995\n",
            "INFO:tensorflow:loss = 0.5813915, step = 3000 (0.181 sec)\n",
            "INFO:tensorflow:global_step/sec: 560.303\n",
            "INFO:tensorflow:loss = 0.6189547, step = 3100 (0.178 sec)\n",
            "INFO:tensorflow:global_step/sec: 576.545\n",
            "INFO:tensorflow:loss = 0.46768188, step = 3200 (0.176 sec)\n",
            "INFO:tensorflow:global_step/sec: 559.131\n",
            "INFO:tensorflow:loss = 0.76711094, step = 3300 (0.177 sec)\n",
            "INFO:tensorflow:global_step/sec: 564.08\n",
            "INFO:tensorflow:loss = 0.80196863, step = 3400 (0.178 sec)\n",
            "INFO:tensorflow:global_step/sec: 551.079\n",
            "INFO:tensorflow:loss = 0.5901946, step = 3500 (0.178 sec)\n",
            "INFO:tensorflow:global_step/sec: 545.533\n",
            "INFO:tensorflow:loss = 0.9229141, step = 3600 (0.187 sec)\n",
            "INFO:tensorflow:global_step/sec: 561.905\n",
            "INFO:tensorflow:loss = 0.54730594, step = 3700 (0.177 sec)\n",
            "INFO:tensorflow:global_step/sec: 568.44\n",
            "INFO:tensorflow:loss = 0.66920656, step = 3800 (0.177 sec)\n",
            "INFO:tensorflow:global_step/sec: 563.307\n",
            "INFO:tensorflow:loss = 0.6144906, step = 3900 (0.175 sec)\n",
            "INFO:tensorflow:Saving checkpoints for 4000 into /tmp/tmpFVIhGs/model.ckpt.\n",
            "INFO:tensorflow:Loss for final step: 0.7523348.\n"
          ],
          "name": "stdout"
        },
        {
          "output_type": "execute_result",
          "data": {
            "text/plain": [
              "<tensorflow.python.estimator.estimator.Estimator at 0x7f8ff6939bd0>"
            ]
          },
          "metadata": {
            "tags": []
          },
          "execution_count": 12
        }
      ]
    },
    {
      "metadata": {
        "id": "3GkGpRGgffU9",
        "colab_type": "text"
      },
      "cell_type": "markdown",
      "source": [
        "## Evaluate our Model for train and test case "
      ]
    },
    {
      "metadata": {
        "scrolled": true,
        "id": "54Q_pK9cffU_",
        "colab_type": "code",
        "outputId": "66a7f69d-0c27-4cb0-c28f-7c7c3989f3d8",
        "colab": {
          "base_uri": "https://localhost:8080/",
          "height": 714
        }
      },
      "cell_type": "code",
      "source": [
        "linear_classifier.evaluate(input_fn=generate_input_fn(train_df, BATCH_SIZE), steps=100)\n",
        "linear_classifier.evaluate(input_fn=generate_input_fn(test_df, BATCH_SIZE), steps=100)"
      ],
      "execution_count": 13,
      "outputs": [
        {
          "output_type": "stream",
          "text": [
            "INFO:tensorflow:Calling model_fn.\n",
            "INFO:tensorflow:Done calling model_fn.\n",
            "INFO:tensorflow:Starting evaluation at 2019-02-03-05:29:52\n",
            "INFO:tensorflow:Graph was finalized.\n",
            "INFO:tensorflow:Restoring parameters from /tmp/tmpFVIhGs/model.ckpt-4000\n",
            "INFO:tensorflow:Running local_init_op.\n",
            "INFO:tensorflow:Done running local_init_op.\n",
            "INFO:tensorflow:Evaluation [10/100]\n",
            "INFO:tensorflow:Evaluation [20/100]\n",
            "INFO:tensorflow:Evaluation [30/100]\n",
            "INFO:tensorflow:Evaluation [40/100]\n",
            "INFO:tensorflow:Evaluation [50/100]\n",
            "INFO:tensorflow:Evaluation [60/100]\n",
            "INFO:tensorflow:Evaluation [70/100]\n",
            "INFO:tensorflow:Evaluation [80/100]\n",
            "INFO:tensorflow:Evaluation [90/100]\n",
            "INFO:tensorflow:Evaluation [100/100]\n",
            "INFO:tensorflow:Finished evaluation at 2019-02-03-05:29:53\n",
            "INFO:tensorflow:Saving dict for global step 4000: accuracy = 0.81625, global_step = 4000, loss = 0.56049734\n",
            "INFO:tensorflow:Saving 'checkpoint_path' summary for global step 4000: /tmp/tmpFVIhGs/model.ckpt-4000\n",
            "INFO:tensorflow:Calling model_fn.\n",
            "INFO:tensorflow:Done calling model_fn.\n",
            "INFO:tensorflow:Starting evaluation at 2019-02-03-05:29:59\n",
            "INFO:tensorflow:Graph was finalized.\n",
            "INFO:tensorflow:Restoring parameters from /tmp/tmpFVIhGs/model.ckpt-4000\n",
            "INFO:tensorflow:Running local_init_op.\n",
            "INFO:tensorflow:Done running local_init_op.\n",
            "INFO:tensorflow:Evaluation [10/100]\n",
            "INFO:tensorflow:Evaluation [20/100]\n",
            "INFO:tensorflow:Evaluation [30/100]\n",
            "INFO:tensorflow:Evaluation [40/100]\n",
            "INFO:tensorflow:Evaluation [50/100]\n",
            "INFO:tensorflow:Evaluation [60/100]\n",
            "INFO:tensorflow:Evaluation [70/100]\n",
            "INFO:tensorflow:Evaluation [80/100]\n",
            "INFO:tensorflow:Evaluation [90/100]\n",
            "INFO:tensorflow:Evaluation [100/100]\n",
            "INFO:tensorflow:Finished evaluation at 2019-02-03-05:29:59\n",
            "INFO:tensorflow:Saving dict for global step 4000: accuracy = 0.80671877, global_step = 4000, loss = 0.59339595\n",
            "INFO:tensorflow:Saving 'checkpoint_path' summary for global step 4000: /tmp/tmpFVIhGs/model.ckpt-4000\n"
          ],
          "name": "stdout"
        },
        {
          "output_type": "execute_result",
          "data": {
            "text/plain": [
              "{'accuracy': 0.80671877, 'global_step': 4000, 'loss': 0.59339595}"
            ]
          },
          "metadata": {
            "tags": []
          },
          "execution_count": 13
        }
      ]
    },
    {
      "metadata": {
        "id": "yqKnwADGffVJ",
        "colab_type": "raw"
      },
      "cell_type": "markdown",
      "source": [
        "We can see that our model with linear layer produces an accuracy of around ~81%"
      ]
    },
    {
      "metadata": {
        "id": "9TjD8MjmffVL",
        "colab_type": "text"
      },
      "cell_type": "markdown",
      "source": [
        "## CNN for image classifier"
      ]
    },
    {
      "metadata": {
        "id": "2Jz9JzAKffVN",
        "colab_type": "code",
        "colab": {}
      },
      "cell_type": "code",
      "source": [
        "# make a func for cnn cls \n",
        "def cnn_model_fn(features, labels, mode):\n",
        "    \"\"\"Model function for CNN.\"\"\"\n",
        "    \n",
        "    # inputs \n",
        "    inputs = tf.reshape(features['pixels'], [-1, NUM_ROWS, NUM_COLS, 1])\n",
        "    \n",
        "    # normalized inputs \n",
        "    normalized_inputs = inputs / MAX_PIXEL_VALUE\n",
        "    \n",
        "    # making a conv layer 1 \n",
        "    conv1 = tf.layers.conv2d(inputs=normalized_inputs, filters=32, kernel_size=[3,3],padding='same', activation=tf.nn.relu)\n",
        "    \n",
        "    # making a pooling layer 1 \n",
        "    pool1 = tf.layers.max_pooling2d(inputs=conv1, pool_size=[2,2], strides=2)\n",
        "    \n",
        "    # making a conv layer 2\n",
        "    conv2 = tf.layers.conv2d(inputs=pool1, filters=64, kernel_size=[3,3], padding='same', activation=tf.nn.relu)\n",
        "    \n",
        "    # making a pooling layer 2\n",
        "    pool2 = tf.layers.max_pooling2d(inputs=conv2, pool_size=[2,2], strides=2)\n",
        "    \n",
        "    # a full dense layer \n",
        "    pool2_flat = tf.reshape(pool2, [-1, 7*7*64]) # making pool2 layer flat \n",
        "    \n",
        "    dense = tf.layers.dense(inputs=pool2_flat, units=1024, activation=tf.nn.relu)\n",
        "    \n",
        "    # a drop out layer with 40% \n",
        "    dropout = tf.layers.dropout(inputs=dense, rate=0.4, training=mode == tf.estimator.ModeKeys.TRAIN)\n",
        "    \n",
        "    # final logits linear layer \n",
        "    logits = tf.layers.dense(inputs=dropout, units=NUM_CLASSES)\n",
        "    # getting predictions for eval and predict method \n",
        "    predictions = {\n",
        "        \"classes\":tf.argmax(input=logits, axis=1),\n",
        "        \"probablities\":tf.nn.softmax(logits=logits, name=\"softmax_tesor\")\n",
        "    }\n",
        "    \n",
        "    # if mode prediction\n",
        "    if mode == tf.estimator.ModeKeys.PREDICT:\n",
        "        return tf.estimator.EstimatorSpec(mode= mode, predictions=predictions)\n",
        "    \n",
        "    # computing loss for our model \n",
        "    loss = tf.losses.sparse_softmax_cross_entropy(labels=labels, logits=logits)\n",
        "    \n",
        "    # for train mode \n",
        "    if mode == tf.estimator.ModeKeys.TRAIN:\n",
        "        optimizer = tf.train.AdamOptimizer(learning_rate=1e-4)\n",
        "        train_op = optimizer.minimize(loss = loss, global_step = tf.train.get_global_step())\n",
        "        \n",
        "        return tf.estimator.EstimatorSpec(mode=mode, loss=loss, train_op = train_op)\n",
        "    \n",
        "    # for eval mode \n",
        "    eval_metric_ops = {\n",
        "        \"accuracy\":tf.metrics.accuracy(labels=labels, predictions=predictions['classes'])\n",
        "    }\n",
        "    \n",
        "    return tf.estimator.EstimatorSpec(mode=mode, loss=loss, eval_metric_ops=eval_metric_ops)"
      ],
      "execution_count": 0,
      "outputs": []
    },
    {
      "metadata": {
        "id": "artn_QWeffVd",
        "colab_type": "code",
        "outputId": "6ff1c6f6-278e-4171-d03c-60a3f40fefde",
        "colab": {
          "base_uri": "https://localhost:8080/",
          "height": 190
        }
      },
      "cell_type": "code",
      "source": [
        "# train our cnn model \n",
        "cnn_classifier = tf.estimator.Estimator(model_fn=cnn_model_fn)"
      ],
      "execution_count": 15,
      "outputs": [
        {
          "output_type": "stream",
          "text": [
            "INFO:tensorflow:Using default config.\n",
            "WARNING:tensorflow:Using temporary folder as model directory: /tmp/tmp7RsQTc\n",
            "INFO:tensorflow:Using config: {'_save_checkpoints_secs': 600, '_num_ps_replicas': 0, '_keep_checkpoint_max': 5, '_task_type': 'worker', '_global_id_in_cluster': 0, '_is_chief': True, '_cluster_spec': <tensorflow.python.training.server_lib.ClusterSpec object at 0x7f8ff21e0e90>, '_model_dir': '/tmp/tmp7RsQTc', '_protocol': None, '_save_checkpoints_steps': None, '_keep_checkpoint_every_n_hours': 10000, '_service': None, '_session_config': allow_soft_placement: true\n",
            "graph_options {\n",
            "  rewrite_options {\n",
            "    meta_optimizer_iterations: ONE\n",
            "  }\n",
            "}\n",
            ", '_tf_random_seed': None, '_save_summary_steps': 100, '_device_fn': None, '_experimental_distribute': None, '_num_worker_replicas': 1, '_task_id': 0, '_log_step_count_steps': 100, '_evaluation_master': '', '_eval_distribute': None, '_train_distribute': None, '_master': ''}\n"
          ],
          "name": "stdout"
        }
      ]
    },
    {
      "metadata": {
        "id": "23_3Bto2ffVq",
        "colab_type": "code",
        "outputId": "fad205ef-8cff-4b43-ef86-f6839215d5a0",
        "colab": {
          "base_uri": "https://localhost:8080/",
          "height": 1969
        }
      },
      "cell_type": "code",
      "source": [
        "cnn_classifier.train(input_fn=generate_input_fn(train_df, BATCH_SIZE), steps=NUM_TRAIN_STEPS, hooks=None)"
      ],
      "execution_count": 16,
      "outputs": [
        {
          "output_type": "error",
          "ename": "KeyboardInterrupt",
          "evalue": "ignored",
          "traceback": [
            "\u001b[0;31m\u001b[0m",
            "\u001b[0;31mKeyboardInterrupt\u001b[0mTraceback (most recent call last)",
            "\u001b[0;32m<ipython-input-16-6e030bbe3d43>\u001b[0m in \u001b[0;36m<module>\u001b[0;34m()\u001b[0m\n\u001b[0;32m----> 1\u001b[0;31m \u001b[0mcnn_classifier\u001b[0m\u001b[0;34m.\u001b[0m\u001b[0mtrain\u001b[0m\u001b[0;34m(\u001b[0m\u001b[0minput_fn\u001b[0m\u001b[0;34m=\u001b[0m\u001b[0mgenerate_input_fn\u001b[0m\u001b[0;34m(\u001b[0m\u001b[0mtrain_df\u001b[0m\u001b[0;34m,\u001b[0m \u001b[0mBATCH_SIZE\u001b[0m\u001b[0;34m)\u001b[0m\u001b[0;34m,\u001b[0m \u001b[0msteps\u001b[0m\u001b[0;34m=\u001b[0m\u001b[0mNUM_TRAIN_STEPS\u001b[0m\u001b[0;34m,\u001b[0m \u001b[0mhooks\u001b[0m\u001b[0;34m=\u001b[0m\u001b[0mNone\u001b[0m\u001b[0;34m)\u001b[0m\u001b[0;34m\u001b[0m\u001b[0m\n\u001b[0m",
            "\u001b[0;32m/usr/local/lib/python2.7/dist-packages/tensorflow/python/estimator/estimator.pyc\u001b[0m in \u001b[0;36mtrain\u001b[0;34m(self, input_fn, hooks, steps, max_steps, saving_listeners)\u001b[0m\n\u001b[1;32m    352\u001b[0m \u001b[0;34m\u001b[0m\u001b[0m\n\u001b[1;32m    353\u001b[0m       \u001b[0msaving_listeners\u001b[0m \u001b[0;34m=\u001b[0m \u001b[0m_check_listeners_type\u001b[0m\u001b[0;34m(\u001b[0m\u001b[0msaving_listeners\u001b[0m\u001b[0;34m)\u001b[0m\u001b[0;34m\u001b[0m\u001b[0m\n\u001b[0;32m--> 354\u001b[0;31m       \u001b[0mloss\u001b[0m \u001b[0;34m=\u001b[0m \u001b[0mself\u001b[0m\u001b[0;34m.\u001b[0m\u001b[0m_train_model\u001b[0m\u001b[0;34m(\u001b[0m\u001b[0minput_fn\u001b[0m\u001b[0;34m,\u001b[0m \u001b[0mhooks\u001b[0m\u001b[0;34m,\u001b[0m \u001b[0msaving_listeners\u001b[0m\u001b[0;34m)\u001b[0m\u001b[0;34m\u001b[0m\u001b[0m\n\u001b[0m\u001b[1;32m    355\u001b[0m       \u001b[0mlogging\u001b[0m\u001b[0;34m.\u001b[0m\u001b[0minfo\u001b[0m\u001b[0;34m(\u001b[0m\u001b[0;34m'Loss for final step: %s.'\u001b[0m\u001b[0;34m,\u001b[0m \u001b[0mloss\u001b[0m\u001b[0;34m)\u001b[0m\u001b[0;34m\u001b[0m\u001b[0m\n\u001b[1;32m    356\u001b[0m       \u001b[0;32mreturn\u001b[0m \u001b[0mself\u001b[0m\u001b[0;34m\u001b[0m\u001b[0m\n",
            "\u001b[0;32m/usr/local/lib/python2.7/dist-packages/tensorflow/python/estimator/estimator.pyc\u001b[0m in \u001b[0;36m_train_model\u001b[0;34m(self, input_fn, hooks, saving_listeners)\u001b[0m\n\u001b[1;32m   1205\u001b[0m       \u001b[0;32mreturn\u001b[0m \u001b[0mself\u001b[0m\u001b[0;34m.\u001b[0m\u001b[0m_train_model_distributed\u001b[0m\u001b[0;34m(\u001b[0m\u001b[0minput_fn\u001b[0m\u001b[0;34m,\u001b[0m \u001b[0mhooks\u001b[0m\u001b[0;34m,\u001b[0m \u001b[0msaving_listeners\u001b[0m\u001b[0;34m)\u001b[0m\u001b[0;34m\u001b[0m\u001b[0m\n\u001b[1;32m   1206\u001b[0m     \u001b[0;32melse\u001b[0m\u001b[0;34m:\u001b[0m\u001b[0;34m\u001b[0m\u001b[0m\n\u001b[0;32m-> 1207\u001b[0;31m       \u001b[0;32mreturn\u001b[0m \u001b[0mself\u001b[0m\u001b[0;34m.\u001b[0m\u001b[0m_train_model_default\u001b[0m\u001b[0;34m(\u001b[0m\u001b[0minput_fn\u001b[0m\u001b[0;34m,\u001b[0m \u001b[0mhooks\u001b[0m\u001b[0;34m,\u001b[0m \u001b[0msaving_listeners\u001b[0m\u001b[0;34m)\u001b[0m\u001b[0;34m\u001b[0m\u001b[0m\n\u001b[0m\u001b[1;32m   1208\u001b[0m \u001b[0;34m\u001b[0m\u001b[0m\n\u001b[1;32m   1209\u001b[0m   \u001b[0;32mdef\u001b[0m \u001b[0m_train_model_default\u001b[0m\u001b[0;34m(\u001b[0m\u001b[0mself\u001b[0m\u001b[0;34m,\u001b[0m \u001b[0minput_fn\u001b[0m\u001b[0;34m,\u001b[0m \u001b[0mhooks\u001b[0m\u001b[0;34m,\u001b[0m \u001b[0msaving_listeners\u001b[0m\u001b[0;34m)\u001b[0m\u001b[0;34m:\u001b[0m\u001b[0;34m\u001b[0m\u001b[0m\n",
            "\u001b[0;32m/usr/local/lib/python2.7/dist-packages/tensorflow/python/estimator/estimator.pyc\u001b[0m in \u001b[0;36m_train_model_default\u001b[0;34m(self, input_fn, hooks, saving_listeners)\u001b[0m\n\u001b[1;32m   1239\u001b[0m       return self._train_with_estimator_spec(estimator_spec, worker_hooks,\n\u001b[1;32m   1240\u001b[0m                                              \u001b[0mhooks\u001b[0m\u001b[0;34m,\u001b[0m \u001b[0mglobal_step_tensor\u001b[0m\u001b[0;34m,\u001b[0m\u001b[0;34m\u001b[0m\u001b[0m\n\u001b[0;32m-> 1241\u001b[0;31m                                              saving_listeners)\n\u001b[0m\u001b[1;32m   1242\u001b[0m \u001b[0;34m\u001b[0m\u001b[0m\n\u001b[1;32m   1243\u001b[0m   \u001b[0;32mdef\u001b[0m \u001b[0m_train_model_distributed\u001b[0m\u001b[0;34m(\u001b[0m\u001b[0mself\u001b[0m\u001b[0;34m,\u001b[0m \u001b[0minput_fn\u001b[0m\u001b[0;34m,\u001b[0m \u001b[0mhooks\u001b[0m\u001b[0;34m,\u001b[0m \u001b[0msaving_listeners\u001b[0m\u001b[0;34m)\u001b[0m\u001b[0;34m:\u001b[0m\u001b[0;34m\u001b[0m\u001b[0m\n",
            "\u001b[0;32m/usr/local/lib/python2.7/dist-packages/tensorflow/python/estimator/estimator.pyc\u001b[0m in \u001b[0;36m_train_with_estimator_spec\u001b[0;34m(self, estimator_spec, worker_hooks, hooks, global_step_tensor, saving_listeners)\u001b[0m\n\u001b[1;32m   1466\u001b[0m         \u001b[0msave_summaries_steps\u001b[0m\u001b[0;34m=\u001b[0m\u001b[0msave_summary_steps\u001b[0m\u001b[0;34m,\u001b[0m\u001b[0;34m\u001b[0m\u001b[0m\n\u001b[1;32m   1467\u001b[0m         \u001b[0mconfig\u001b[0m\u001b[0;34m=\u001b[0m\u001b[0mself\u001b[0m\u001b[0;34m.\u001b[0m\u001b[0m_session_config\u001b[0m\u001b[0;34m,\u001b[0m\u001b[0;34m\u001b[0m\u001b[0m\n\u001b[0;32m-> 1468\u001b[0;31m         log_step_count_steps=log_step_count_steps) as mon_sess:\n\u001b[0m\u001b[1;32m   1469\u001b[0m       \u001b[0mloss\u001b[0m \u001b[0;34m=\u001b[0m \u001b[0mNone\u001b[0m\u001b[0;34m\u001b[0m\u001b[0m\n\u001b[1;32m   1470\u001b[0m       \u001b[0;32mwhile\u001b[0m \u001b[0;32mnot\u001b[0m \u001b[0mmon_sess\u001b[0m\u001b[0;34m.\u001b[0m\u001b[0mshould_stop\u001b[0m\u001b[0;34m(\u001b[0m\u001b[0;34m)\u001b[0m\u001b[0;34m:\u001b[0m\u001b[0;34m\u001b[0m\u001b[0m\n",
            "\u001b[0;32m/usr/local/lib/python2.7/dist-packages/tensorflow/python/training/monitored_session.pyc\u001b[0m in \u001b[0;36mMonitoredTrainingSession\u001b[0;34m(master, is_chief, checkpoint_dir, scaffold, hooks, chief_only_hooks, save_checkpoint_secs, save_summaries_steps, save_summaries_secs, config, stop_grace_period_secs, log_step_count_steps, max_wait_secs, save_checkpoint_steps, summary_dir)\u001b[0m\n\u001b[1;32m    502\u001b[0m       \u001b[0msession_creator\u001b[0m\u001b[0;34m=\u001b[0m\u001b[0msession_creator\u001b[0m\u001b[0;34m,\u001b[0m\u001b[0;34m\u001b[0m\u001b[0m\n\u001b[1;32m    503\u001b[0m       \u001b[0mhooks\u001b[0m\u001b[0;34m=\u001b[0m\u001b[0mall_hooks\u001b[0m\u001b[0;34m,\u001b[0m\u001b[0;34m\u001b[0m\u001b[0m\n\u001b[0;32m--> 504\u001b[0;31m       stop_grace_period_secs=stop_grace_period_secs)\n\u001b[0m\u001b[1;32m    505\u001b[0m \u001b[0;34m\u001b[0m\u001b[0m\n\u001b[1;32m    506\u001b[0m \u001b[0;34m\u001b[0m\u001b[0m\n",
            "\u001b[0;32m/usr/local/lib/python2.7/dist-packages/tensorflow/python/training/monitored_session.pyc\u001b[0m in \u001b[0;36m__init__\u001b[0;34m(self, session_creator, hooks, stop_grace_period_secs)\u001b[0m\n\u001b[1;32m    919\u001b[0m     super(MonitoredSession, self).__init__(\n\u001b[1;32m    920\u001b[0m         \u001b[0msession_creator\u001b[0m\u001b[0;34m,\u001b[0m \u001b[0mhooks\u001b[0m\u001b[0;34m,\u001b[0m \u001b[0mshould_recover\u001b[0m\u001b[0;34m=\u001b[0m\u001b[0mTrue\u001b[0m\u001b[0;34m,\u001b[0m\u001b[0;34m\u001b[0m\u001b[0m\n\u001b[0;32m--> 921\u001b[0;31m         stop_grace_period_secs=stop_grace_period_secs)\n\u001b[0m\u001b[1;32m    922\u001b[0m \u001b[0;34m\u001b[0m\u001b[0m\n\u001b[1;32m    923\u001b[0m \u001b[0;34m\u001b[0m\u001b[0m\n",
            "\u001b[0;32m/usr/local/lib/python2.7/dist-packages/tensorflow/python/training/monitored_session.pyc\u001b[0m in \u001b[0;36m__init__\u001b[0;34m(self, session_creator, hooks, should_recover, stop_grace_period_secs)\u001b[0m\n\u001b[1;32m    641\u001b[0m         stop_grace_period_secs=stop_grace_period_secs)\n\u001b[1;32m    642\u001b[0m     \u001b[0;32mif\u001b[0m \u001b[0mshould_recover\u001b[0m\u001b[0;34m:\u001b[0m\u001b[0;34m\u001b[0m\u001b[0m\n\u001b[0;32m--> 643\u001b[0;31m       \u001b[0mself\u001b[0m\u001b[0;34m.\u001b[0m\u001b[0m_sess\u001b[0m \u001b[0;34m=\u001b[0m \u001b[0m_RecoverableSession\u001b[0m\u001b[0;34m(\u001b[0m\u001b[0mself\u001b[0m\u001b[0;34m.\u001b[0m\u001b[0m_coordinated_creator\u001b[0m\u001b[0;34m)\u001b[0m\u001b[0;34m\u001b[0m\u001b[0m\n\u001b[0m\u001b[1;32m    644\u001b[0m     \u001b[0;32melse\u001b[0m\u001b[0;34m:\u001b[0m\u001b[0;34m\u001b[0m\u001b[0m\n\u001b[1;32m    645\u001b[0m       \u001b[0mself\u001b[0m\u001b[0;34m.\u001b[0m\u001b[0m_sess\u001b[0m \u001b[0;34m=\u001b[0m \u001b[0mself\u001b[0m\u001b[0;34m.\u001b[0m\u001b[0m_coordinated_creator\u001b[0m\u001b[0;34m.\u001b[0m\u001b[0mcreate_session\u001b[0m\u001b[0;34m(\u001b[0m\u001b[0;34m)\u001b[0m\u001b[0;34m\u001b[0m\u001b[0m\n",
            "\u001b[0;32m/usr/local/lib/python2.7/dist-packages/tensorflow/python/training/monitored_session.pyc\u001b[0m in \u001b[0;36m__init__\u001b[0;34m(self, sess_creator)\u001b[0m\n\u001b[1;32m   1105\u001b[0m     \"\"\"\n\u001b[1;32m   1106\u001b[0m     \u001b[0mself\u001b[0m\u001b[0;34m.\u001b[0m\u001b[0m_sess_creator\u001b[0m \u001b[0;34m=\u001b[0m \u001b[0msess_creator\u001b[0m\u001b[0;34m\u001b[0m\u001b[0m\n\u001b[0;32m-> 1107\u001b[0;31m     \u001b[0m_WrappedSession\u001b[0m\u001b[0;34m.\u001b[0m\u001b[0m__init__\u001b[0m\u001b[0;34m(\u001b[0m\u001b[0mself\u001b[0m\u001b[0;34m,\u001b[0m \u001b[0mself\u001b[0m\u001b[0;34m.\u001b[0m\u001b[0m_create_session\u001b[0m\u001b[0;34m(\u001b[0m\u001b[0;34m)\u001b[0m\u001b[0;34m)\u001b[0m\u001b[0;34m\u001b[0m\u001b[0m\n\u001b[0m\u001b[1;32m   1108\u001b[0m \u001b[0;34m\u001b[0m\u001b[0m\n\u001b[1;32m   1109\u001b[0m   \u001b[0;32mdef\u001b[0m \u001b[0m_create_session\u001b[0m\u001b[0;34m(\u001b[0m\u001b[0mself\u001b[0m\u001b[0;34m)\u001b[0m\u001b[0;34m:\u001b[0m\u001b[0;34m\u001b[0m\u001b[0m\n",
            "\u001b[0;32m/usr/local/lib/python2.7/dist-packages/tensorflow/python/training/monitored_session.pyc\u001b[0m in \u001b[0;36m_create_session\u001b[0;34m(self)\u001b[0m\n\u001b[1;32m   1110\u001b[0m     \u001b[0;32mwhile\u001b[0m \u001b[0mTrue\u001b[0m\u001b[0;34m:\u001b[0m\u001b[0;34m\u001b[0m\u001b[0m\n\u001b[1;32m   1111\u001b[0m       \u001b[0;32mtry\u001b[0m\u001b[0;34m:\u001b[0m\u001b[0;34m\u001b[0m\u001b[0m\n\u001b[0;32m-> 1112\u001b[0;31m         \u001b[0;32mreturn\u001b[0m \u001b[0mself\u001b[0m\u001b[0;34m.\u001b[0m\u001b[0m_sess_creator\u001b[0m\u001b[0;34m.\u001b[0m\u001b[0mcreate_session\u001b[0m\u001b[0;34m(\u001b[0m\u001b[0;34m)\u001b[0m\u001b[0;34m\u001b[0m\u001b[0m\n\u001b[0m\u001b[1;32m   1113\u001b[0m       \u001b[0;32mexcept\u001b[0m \u001b[0m_PREEMPTION_ERRORS\u001b[0m \u001b[0;32mas\u001b[0m \u001b[0me\u001b[0m\u001b[0;34m:\u001b[0m\u001b[0;34m\u001b[0m\u001b[0m\n\u001b[1;32m   1114\u001b[0m         logging.info('An error was raised while a session was being created. '\n",
            "\u001b[0;32m/usr/local/lib/python2.7/dist-packages/tensorflow/python/training/monitored_session.pyc\u001b[0m in \u001b[0;36mcreate_session\u001b[0;34m(self)\u001b[0m\n\u001b[1;32m    805\u001b[0m       \u001b[0;31m# Inform the hooks that a new session has been created.\u001b[0m\u001b[0;34m\u001b[0m\u001b[0;34m\u001b[0m\u001b[0m\n\u001b[1;32m    806\u001b[0m       \u001b[0;32mfor\u001b[0m \u001b[0mhook\u001b[0m \u001b[0;32min\u001b[0m \u001b[0mself\u001b[0m\u001b[0;34m.\u001b[0m\u001b[0m_hooks\u001b[0m\u001b[0;34m:\u001b[0m\u001b[0;34m\u001b[0m\u001b[0m\n\u001b[0;32m--> 807\u001b[0;31m         \u001b[0mhook\u001b[0m\u001b[0;34m.\u001b[0m\u001b[0mafter_create_session\u001b[0m\u001b[0;34m(\u001b[0m\u001b[0mself\u001b[0m\u001b[0;34m.\u001b[0m\u001b[0mtf_sess\u001b[0m\u001b[0;34m,\u001b[0m \u001b[0mself\u001b[0m\u001b[0;34m.\u001b[0m\u001b[0mcoord\u001b[0m\u001b[0;34m)\u001b[0m\u001b[0;34m\u001b[0m\u001b[0m\n\u001b[0m\u001b[1;32m    808\u001b[0m       return _CoordinatedSession(\n\u001b[1;32m    809\u001b[0m           \u001b[0m_HookedSession\u001b[0m\u001b[0;34m(\u001b[0m\u001b[0mself\u001b[0m\u001b[0;34m.\u001b[0m\u001b[0mtf_sess\u001b[0m\u001b[0;34m,\u001b[0m \u001b[0mself\u001b[0m\u001b[0;34m.\u001b[0m\u001b[0m_hooks\u001b[0m\u001b[0;34m)\u001b[0m\u001b[0;34m,\u001b[0m \u001b[0mself\u001b[0m\u001b[0;34m.\u001b[0m\u001b[0mcoord\u001b[0m\u001b[0;34m,\u001b[0m\u001b[0;34m\u001b[0m\u001b[0m\n",
            "\u001b[0;32m/usr/local/lib/python2.7/dist-packages/tensorflow/python/training/basic_session_run_hooks.pyc\u001b[0m in \u001b[0;36mafter_create_session\u001b[0;34m(self, session, coord)\u001b[0m\n\u001b[1;32m    557\u001b[0m         \u001b[0mops\u001b[0m\u001b[0;34m.\u001b[0m\u001b[0mget_default_graph\u001b[0m\u001b[0;34m(\u001b[0m\u001b[0;34m)\u001b[0m\u001b[0;34m.\u001b[0m\u001b[0mas_graph_def\u001b[0m\u001b[0;34m(\u001b[0m\u001b[0madd_shapes\u001b[0m\u001b[0;34m=\u001b[0m\u001b[0mTrue\u001b[0m\u001b[0;34m)\u001b[0m\u001b[0;34m,\u001b[0m\u001b[0;34m\u001b[0m\u001b[0m\n\u001b[1;32m    558\u001b[0m         \u001b[0mself\u001b[0m\u001b[0;34m.\u001b[0m\u001b[0m_checkpoint_dir\u001b[0m\u001b[0;34m,\u001b[0m\u001b[0;34m\u001b[0m\u001b[0m\n\u001b[0;32m--> 559\u001b[0;31m         \"graph.pbtxt\")\n\u001b[0m\u001b[1;32m    560\u001b[0m     \u001b[0msaver_def\u001b[0m \u001b[0;34m=\u001b[0m \u001b[0mself\u001b[0m\u001b[0;34m.\u001b[0m\u001b[0m_get_saver\u001b[0m\u001b[0;34m(\u001b[0m\u001b[0;34m)\u001b[0m\u001b[0;34m.\u001b[0m\u001b[0msaver_def\u001b[0m \u001b[0;32mif\u001b[0m \u001b[0mself\u001b[0m\u001b[0;34m.\u001b[0m\u001b[0m_get_saver\u001b[0m\u001b[0;34m(\u001b[0m\u001b[0;34m)\u001b[0m \u001b[0;32melse\u001b[0m \u001b[0mNone\u001b[0m\u001b[0;34m\u001b[0m\u001b[0m\n\u001b[1;32m    561\u001b[0m     \u001b[0mgraph\u001b[0m \u001b[0;34m=\u001b[0m \u001b[0mops\u001b[0m\u001b[0;34m.\u001b[0m\u001b[0mget_default_graph\u001b[0m\u001b[0;34m(\u001b[0m\u001b[0;34m)\u001b[0m\u001b[0;34m\u001b[0m\u001b[0m\n",
            "\u001b[0;32m/usr/local/lib/python2.7/dist-packages/tensorflow/python/framework/graph_io.pyc\u001b[0m in \u001b[0;36mwrite_graph\u001b[0;34m(graph_or_graph_def, logdir, name, as_text)\u001b[0m\n\u001b[1;32m     69\u001b[0m   \u001b[0;32mif\u001b[0m \u001b[0mas_text\u001b[0m\u001b[0;34m:\u001b[0m\u001b[0;34m\u001b[0m\u001b[0m\n\u001b[1;32m     70\u001b[0m     file_io.atomic_write_string_to_file(path,\n\u001b[0;32m---> 71\u001b[0;31m                                         text_format.MessageToString(graph_def))\n\u001b[0m\u001b[1;32m     72\u001b[0m   \u001b[0;32melse\u001b[0m\u001b[0;34m:\u001b[0m\u001b[0;34m\u001b[0m\u001b[0m\n\u001b[1;32m     73\u001b[0m     \u001b[0mfile_io\u001b[0m\u001b[0;34m.\u001b[0m\u001b[0matomic_write_string_to_file\u001b[0m\u001b[0;34m(\u001b[0m\u001b[0mpath\u001b[0m\u001b[0;34m,\u001b[0m \u001b[0mgraph_def\u001b[0m\u001b[0;34m.\u001b[0m\u001b[0mSerializeToString\u001b[0m\u001b[0;34m(\u001b[0m\u001b[0;34m)\u001b[0m\u001b[0;34m)\u001b[0m\u001b[0;34m\u001b[0m\u001b[0m\n",
            "\u001b[0;32m/usr/local/lib/python2.7/dist-packages/tensorflow/python/lib/io/file_io.pyc\u001b[0m in \u001b[0;36matomic_write_string_to_file\u001b[0;34m(filename, contents, overwrite)\u001b[0m\n\u001b[1;32m    432\u001b[0m   \"\"\"\n\u001b[1;32m    433\u001b[0m   \u001b[0mtemp_pathname\u001b[0m \u001b[0;34m=\u001b[0m \u001b[0mfilename\u001b[0m \u001b[0;34m+\u001b[0m \u001b[0;34m\".tmp\"\u001b[0m \u001b[0;34m+\u001b[0m \u001b[0muuid\u001b[0m\u001b[0;34m.\u001b[0m\u001b[0muuid4\u001b[0m\u001b[0;34m(\u001b[0m\u001b[0;34m)\u001b[0m\u001b[0;34m.\u001b[0m\u001b[0mhex\u001b[0m\u001b[0;34m\u001b[0m\u001b[0m\n\u001b[0;32m--> 434\u001b[0;31m   \u001b[0mwrite_string_to_file\u001b[0m\u001b[0;34m(\u001b[0m\u001b[0mtemp_pathname\u001b[0m\u001b[0;34m,\u001b[0m \u001b[0mcontents\u001b[0m\u001b[0;34m)\u001b[0m\u001b[0;34m\u001b[0m\u001b[0m\n\u001b[0m\u001b[1;32m    435\u001b[0m   \u001b[0;32mtry\u001b[0m\u001b[0;34m:\u001b[0m\u001b[0;34m\u001b[0m\u001b[0m\n\u001b[1;32m    436\u001b[0m     \u001b[0mrename\u001b[0m\u001b[0;34m(\u001b[0m\u001b[0mtemp_pathname\u001b[0m\u001b[0;34m,\u001b[0m \u001b[0mfilename\u001b[0m\u001b[0;34m,\u001b[0m \u001b[0moverwrite\u001b[0m\u001b[0;34m)\u001b[0m\u001b[0;34m\u001b[0m\u001b[0m\n",
            "\u001b[0;32m/usr/local/lib/python2.7/dist-packages/tensorflow/python/lib/io/file_io.pyc\u001b[0m in \u001b[0;36mwrite_string_to_file\u001b[0;34m(filename, file_content)\u001b[0m\n\u001b[1;32m    312\u001b[0m   \"\"\"\n\u001b[1;32m    313\u001b[0m   \u001b[0;32mwith\u001b[0m \u001b[0mFileIO\u001b[0m\u001b[0;34m(\u001b[0m\u001b[0mfilename\u001b[0m\u001b[0;34m,\u001b[0m \u001b[0mmode\u001b[0m\u001b[0;34m=\u001b[0m\u001b[0;34m\"w\"\u001b[0m\u001b[0;34m)\u001b[0m \u001b[0;32mas\u001b[0m \u001b[0mf\u001b[0m\u001b[0;34m:\u001b[0m\u001b[0;34m\u001b[0m\u001b[0m\n\u001b[0;32m--> 314\u001b[0;31m     \u001b[0mf\u001b[0m\u001b[0;34m.\u001b[0m\u001b[0mwrite\u001b[0m\u001b[0;34m(\u001b[0m\u001b[0mfile_content\u001b[0m\u001b[0;34m)\u001b[0m\u001b[0;34m\u001b[0m\u001b[0m\n\u001b[0m\u001b[1;32m    315\u001b[0m \u001b[0;34m\u001b[0m\u001b[0m\n\u001b[1;32m    316\u001b[0m \u001b[0;34m\u001b[0m\u001b[0m\n",
            "\u001b[0;32m/usr/local/lib/python2.7/dist-packages/tensorflow/python/lib/io/file_io.pyc\u001b[0m in \u001b[0;36mwrite\u001b[0;34m(self, file_content)\u001b[0m\n\u001b[1;32m    109\u001b[0m     \u001b[0;32mwith\u001b[0m \u001b[0merrors\u001b[0m\u001b[0;34m.\u001b[0m\u001b[0mraise_exception_on_not_ok_status\u001b[0m\u001b[0;34m(\u001b[0m\u001b[0;34m)\u001b[0m \u001b[0;32mas\u001b[0m \u001b[0mstatus\u001b[0m\u001b[0;34m:\u001b[0m\u001b[0;34m\u001b[0m\u001b[0m\n\u001b[1;32m    110\u001b[0m       pywrap_tensorflow.AppendToFile(\n\u001b[0;32m--> 111\u001b[0;31m           compat.as_bytes(file_content), self._writable_file, status)\n\u001b[0m\u001b[1;32m    112\u001b[0m \u001b[0;34m\u001b[0m\u001b[0m\n\u001b[1;32m    113\u001b[0m   \u001b[0;32mdef\u001b[0m \u001b[0mread\u001b[0m\u001b[0;34m(\u001b[0m\u001b[0mself\u001b[0m\u001b[0;34m,\u001b[0m \u001b[0mn\u001b[0m\u001b[0;34m=\u001b[0m\u001b[0;34m-\u001b[0m\u001b[0;36m1\u001b[0m\u001b[0;34m)\u001b[0m\u001b[0;34m:\u001b[0m\u001b[0;34m\u001b[0m\u001b[0m\n",
            "\u001b[0;31mKeyboardInterrupt\u001b[0m: "
          ]
        }
      ]
    },
    {
      "metadata": {
        "id": "eMvrMb9RffVz",
        "colab_type": "code",
        "outputId": "32e69285-0320-4bf9-9e94-b9396b7e4be0",
        "colab": {}
      },
      "cell_type": "code",
      "source": [
        "# making eval for train and test case \n",
        "cnn_classifier.evaluate(input_fn=generate_input_fn(train_df, BATCH_SIZE), steps=100) # for train set \n",
        "cnn_classifier.evaluate(input_fn=generate_input_fn(test_df, BATCH_SIZE), steps=100) # for test set"
      ],
      "execution_count": 0,
      "outputs": [
        {
          "output_type": "stream",
          "text": [
            "/usr/local/lib/python2.7/dist-packages/ipykernel_launcher.py:15: FutureWarning: Method .as_matrix will be removed in a future version. Use .values instead.\n",
            "  from ipykernel import kernelapp as app\n",
            "/usr/local/lib/python2.7/dist-packages/ipykernel_launcher.py:17: FutureWarning: Method .as_matrix will be removed in a future version. Use .values instead.\n"
          ],
          "name": "stderr"
        },
        {
          "output_type": "stream",
          "text": [
            "INFO:tensorflow:Calling model_fn.\n",
            "INFO:tensorflow:Done calling model_fn.\n",
            "INFO:tensorflow:Starting evaluation at 2018-09-10-06:54:18\n",
            "INFO:tensorflow:Graph was finalized.\n",
            "INFO:tensorflow:Restoring parameters from /tmp/tmpd_RjPj/model.ckpt-4000\n",
            "INFO:tensorflow:Running local_init_op.\n",
            "INFO:tensorflow:Done running local_init_op.\n",
            "INFO:tensorflow:Evaluation [10/100]\n",
            "INFO:tensorflow:Evaluation [20/100]\n",
            "INFO:tensorflow:Evaluation [30/100]\n",
            "INFO:tensorflow:Evaluation [40/100]\n",
            "INFO:tensorflow:Evaluation [50/100]\n",
            "INFO:tensorflow:Evaluation [60/100]\n",
            "INFO:tensorflow:Evaluation [70/100]\n",
            "INFO:tensorflow:Evaluation [80/100]\n",
            "INFO:tensorflow:Evaluation [90/100]\n",
            "INFO:tensorflow:Evaluation [100/100]\n",
            "INFO:tensorflow:Finished evaluation at 2018-09-10-06:54:23\n",
            "INFO:tensorflow:Saving dict for global step 4000: accuracy = 0.9021875, global_step = 4000, loss = 0.2782911\n",
            "INFO:tensorflow:Saving 'checkpoint_path' summary for global step 4000: /tmp/tmpd_RjPj/model.ckpt-4000\n",
            "INFO:tensorflow:Calling model_fn.\n",
            "INFO:tensorflow:Done calling model_fn.\n",
            "INFO:tensorflow:Starting evaluation at 2018-09-10-06:54:27\n",
            "INFO:tensorflow:Graph was finalized.\n",
            "INFO:tensorflow:Restoring parameters from /tmp/tmpd_RjPj/model.ckpt-4000\n",
            "INFO:tensorflow:Running local_init_op.\n",
            "INFO:tensorflow:Done running local_init_op.\n",
            "INFO:tensorflow:Evaluation [10/100]\n",
            "INFO:tensorflow:Evaluation [20/100]\n",
            "INFO:tensorflow:Evaluation [30/100]\n",
            "INFO:tensorflow:Evaluation [40/100]\n",
            "INFO:tensorflow:Evaluation [50/100]\n",
            "INFO:tensorflow:Evaluation [60/100]\n",
            "INFO:tensorflow:Evaluation [70/100]\n",
            "INFO:tensorflow:Evaluation [80/100]\n",
            "INFO:tensorflow:Evaluation [90/100]\n",
            "INFO:tensorflow:Evaluation [100/100]\n",
            "INFO:tensorflow:Finished evaluation at 2018-09-10-06:54:31\n",
            "INFO:tensorflow:Saving dict for global step 4000: accuracy = 0.8996875, global_step = 4000, loss = 0.28847972\n",
            "INFO:tensorflow:Saving 'checkpoint_path' summary for global step 4000: /tmp/tmpd_RjPj/model.ckpt-4000\n"
          ],
          "name": "stdout"
        },
        {
          "output_type": "execute_result",
          "data": {
            "text/plain": [
              "{'accuracy': 0.8996875, 'global_step': 4000, 'loss': 0.28847972}"
            ]
          },
          "metadata": {
            "tags": []
          },
          "execution_count": 19
        }
      ]
    }
  ]
}